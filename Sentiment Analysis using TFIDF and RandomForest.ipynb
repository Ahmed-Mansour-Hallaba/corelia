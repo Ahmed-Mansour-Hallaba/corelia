{
 "cells": [
  {
   "cell_type": "markdown",
   "metadata": {},
   "source": [
    "# Load Dataset\n",
    "\n",
    "Let's load the required libraries and dataset. "
   ]
  },
  {
   "cell_type": "code",
   "execution_count": 1,
   "metadata": {
    "execution": {
     "iopub.execute_input": "2022-02-20T03:30:10.418437Z",
     "iopub.status.busy": "2022-02-20T03:30:10.416551Z",
     "iopub.status.idle": "2022-02-20T03:30:12.609155Z",
     "shell.execute_reply": "2022-02-20T03:30:12.60764Z",
     "shell.execute_reply.started": "2022-02-20T03:30:10.418187Z"
    }
   },
   "outputs": [],
   "source": [
    "import numpy as np\n",
    "import pandas as pd\n",
    "import matplotlib.pyplot as plt\n",
    "import seaborn as sns\n",
    "import sklearn\n",
    "import nltk\n",
    "import string, re\n",
    "import gc # garbage collector to manage RAM usage\n",
    "from nltk.tokenize import TweetTokenizer\n",
    "from nltk.corpus import stopwords\n",
    "from nltk.stem import WordNetLemmatizer\n",
    "from sklearn.model_selection import train_test_split\n",
    "from sklearn.feature_extraction.text import TfidfVectorizer\n",
    "from sklearn.naive_bayes import MultinomialNB\n",
    "from sklearn.metrics import confusion_matrix, ConfusionMatrixDisplay, classification_report\n",
    "from sklearn.metrics import classification_report\n",
    "\n",
    "%matplotlib inline"
   ]
  },
  {
   "cell_type": "code",
   "execution_count": 2,
   "metadata": {},
   "outputs": [
    {
     "name": "stderr",
     "output_type": "stream",
     "text": [
      "[nltk_data] Downloading package wordnet to\n",
      "[nltk_data]     C:\\Users\\Mans\\AppData\\Roaming\\nltk_data...\n",
      "[nltk_data]   Package wordnet is already up-to-date!\n"
     ]
    },
    {
     "data": {
      "text/plain": [
       "True"
      ]
     },
     "execution_count": 2,
     "metadata": {},
     "output_type": "execute_result"
    }
   ],
   "source": [
    "nltk.download('wordnet')\n",
    "  "
   ]
  },
  {
   "cell_type": "code",
   "execution_count": 3,
   "metadata": {
    "execution": {
     "iopub.execute_input": "2022-02-20T03:30:17.977643Z",
     "iopub.status.busy": "2022-02-20T03:30:17.977196Z",
     "iopub.status.idle": "2022-02-20T03:30:18.137393Z",
     "shell.execute_reply": "2022-02-20T03:30:18.135931Z",
     "shell.execute_reply.started": "2022-02-20T03:30:17.977598Z"
    }
   },
   "outputs": [
    {
     "data": {
      "text/html": [
       "<div>\n",
       "<style scoped>\n",
       "    .dataframe tbody tr th:only-of-type {\n",
       "        vertical-align: middle;\n",
       "    }\n",
       "\n",
       "    .dataframe tbody tr th {\n",
       "        vertical-align: top;\n",
       "    }\n",
       "\n",
       "    .dataframe thead th {\n",
       "        text-align: right;\n",
       "    }\n",
       "</style>\n",
       "<table border=\"1\" class=\"dataframe\">\n",
       "  <thead>\n",
       "    <tr style=\"text-align: right;\">\n",
       "      <th></th>\n",
       "      <th>label</th>\n",
       "      <th>tweet</th>\n",
       "    </tr>\n",
       "  </thead>\n",
       "  <tbody>\n",
       "    <tr>\n",
       "      <th>0</th>\n",
       "      <td>neutral</td>\n",
       "      <td>@VirginAmerica What @dhepburn said.</td>\n",
       "    </tr>\n",
       "    <tr>\n",
       "      <th>1</th>\n",
       "      <td>positive</td>\n",
       "      <td>@VirginAmerica plus you've added commercials t...</td>\n",
       "    </tr>\n",
       "    <tr>\n",
       "      <th>2</th>\n",
       "      <td>neutral</td>\n",
       "      <td>@VirginAmerica I didn't today... Must mean I n...</td>\n",
       "    </tr>\n",
       "    <tr>\n",
       "      <th>3</th>\n",
       "      <td>negative</td>\n",
       "      <td>@VirginAmerica it's really aggressive to blast...</td>\n",
       "    </tr>\n",
       "    <tr>\n",
       "      <th>4</th>\n",
       "      <td>negative</td>\n",
       "      <td>@VirginAmerica and it's a really big bad thing...</td>\n",
       "    </tr>\n",
       "  </tbody>\n",
       "</table>\n",
       "</div>"
      ],
      "text/plain": [
       "      label                                              tweet\n",
       "0   neutral                @VirginAmerica What @dhepburn said.\n",
       "1  positive  @VirginAmerica plus you've added commercials t...\n",
       "2   neutral  @VirginAmerica I didn't today... Must mean I n...\n",
       "3  negative  @VirginAmerica it's really aggressive to blast...\n",
       "4  negative  @VirginAmerica and it's a really big bad thing..."
      ]
     },
     "execution_count": 3,
     "metadata": {},
     "output_type": "execute_result"
    }
   ],
   "source": [
    "tweets = pd.read_csv('Tweets1.csv')\n",
    "tweets.head()"
   ]
  },
  {
   "cell_type": "code",
   "execution_count": 4,
   "metadata": {
    "execution": {
     "iopub.execute_input": "2022-02-20T03:30:18.461995Z",
     "iopub.status.busy": "2022-02-20T03:30:18.461582Z",
     "iopub.status.idle": "2022-02-20T03:30:18.489654Z",
     "shell.execute_reply": "2022-02-20T03:30:18.488382Z",
     "shell.execute_reply.started": "2022-02-20T03:30:18.461952Z"
    }
   },
   "outputs": [
    {
     "data": {
      "text/plain": [
       "negative    9178\n",
       "neutral     3099\n",
       "positive    2363\n",
       "Name: Label, dtype: int64"
      ]
     },
     "execution_count": 4,
     "metadata": {},
     "output_type": "execute_result"
    }
   ],
   "source": [
    "# Rename columns to avoid clashes with the words in vocab later\n",
    "tweets.rename(columns={'label':'Label', 'tweet':'Tweet'}, inplace=True)\n",
    "\n",
    "# Check distribution of class of tweets\n",
    "tweets.Label.value_counts()"
   ]
  },
  {
   "cell_type": "code",
   "execution_count": 5,
   "metadata": {
    "execution": {
     "iopub.execute_input": "2022-02-20T03:30:25.194537Z",
     "iopub.status.busy": "2022-02-20T03:30:25.193142Z",
     "iopub.status.idle": "2022-02-20T03:30:25.264531Z",
     "shell.execute_reply": "2022-02-20T03:30:25.259962Z",
     "shell.execute_reply.started": "2022-02-20T03:30:25.194472Z"
    }
   },
   "outputs": [
    {
     "name": "stdout",
     "output_type": "stream",
     "text": [
      "11712\n",
      "2928\n"
     ]
    },
    {
     "data": {
      "text/html": [
       "<div>\n",
       "<style scoped>\n",
       "    .dataframe tbody tr th:only-of-type {\n",
       "        vertical-align: middle;\n",
       "    }\n",
       "\n",
       "    .dataframe tbody tr th {\n",
       "        vertical-align: top;\n",
       "    }\n",
       "\n",
       "    .dataframe thead th {\n",
       "        text-align: right;\n",
       "    }\n",
       "</style>\n",
       "<table border=\"1\" class=\"dataframe\">\n",
       "  <thead>\n",
       "    <tr style=\"text-align: right;\">\n",
       "      <th></th>\n",
       "      <th>Tweet</th>\n",
       "      <th>Label</th>\n",
       "    </tr>\n",
       "  </thead>\n",
       "  <tbody>\n",
       "    <tr>\n",
       "      <th>0</th>\n",
       "      <td>@united pls stop sending texts every 15mins sa...</td>\n",
       "      <td>negative</td>\n",
       "    </tr>\n",
       "    <tr>\n",
       "      <th>1</th>\n",
       "      <td>@united no thanks</td>\n",
       "      <td>neutral</td>\n",
       "    </tr>\n",
       "    <tr>\n",
       "      <th>2</th>\n",
       "      <td>@AmericanAir @NY_NJairports Do you guys teach ...</td>\n",
       "      <td>negative</td>\n",
       "    </tr>\n",
       "    <tr>\n",
       "      <th>3</th>\n",
       "      <td>@united I sure did.   I had to drive a total o...</td>\n",
       "      <td>negative</td>\n",
       "    </tr>\n",
       "    <tr>\n",
       "      <th>4</th>\n",
       "      <td>@united The guidelines say 10x9x17, my bag is ...</td>\n",
       "      <td>neutral</td>\n",
       "    </tr>\n",
       "  </tbody>\n",
       "</table>\n",
       "</div>"
      ],
      "text/plain": [
       "                                               Tweet     Label\n",
       "0  @united pls stop sending texts every 15mins sa...  negative\n",
       "1                                  @united no thanks   neutral\n",
       "2  @AmericanAir @NY_NJairports Do you guys teach ...  negative\n",
       "3  @united I sure did.   I had to drive a total o...  negative\n",
       "4  @united The guidelines say 10x9x17, my bag is ...   neutral"
      ]
     },
     "execution_count": 5,
     "metadata": {},
     "output_type": "execute_result"
    }
   ],
   "source": [
    "X_train, X_test, y_train, y_test = train_test_split(tweets['Tweet'], tweets['Label'], test_size=0.2, \n",
    "                                                    stratify=tweets['Label'], random_state=1)\n",
    "\n",
    "# Combine the results into train and test dataframe\n",
    "tweets_train = pd.concat([X_train, y_train], axis=1).reset_index(drop=True)\n",
    "tweets_test = pd.concat([X_test, y_test], axis=1).reset_index(drop=True)\n",
    "\n",
    "print(len(tweets_train))\n",
    "print(len(tweets_test))\n",
    "tweets_train.head()"
   ]
  },
  {
   "cell_type": "markdown",
   "metadata": {},
   "source": [
    "We now have 25,569 tweets in training dataset and 6,393 tweets in test dataset. "
   ]
  },
  {
   "cell_type": "markdown",
   "metadata": {},
   "source": [
    "# Data Preprocessing\n",
    "We need to first preprocess the tweets to remove hashtags, mentions, punctuations, stopwords, website links, non-alphanumeric characters, single characeter and extra spaces. Here, we'll use `nltk` built-in `TweetTokenizer` to tokenize the sentence. It generally works better than the normal `nltk` `word_tokenize` function as it splits the sentence by taking into consideration of the common patterns seen in tweets (e.g., mention, hashtags, emoji)."
   ]
  },
  {
   "cell_type": "code",
   "execution_count": 6,
   "metadata": {
    "execution": {
     "iopub.execute_input": "2022-02-20T03:30:36.216008Z",
     "iopub.status.busy": "2022-02-20T03:30:36.215603Z",
     "iopub.status.idle": "2022-02-20T03:30:36.232927Z",
     "shell.execute_reply": "2022-02-20T03:30:36.231059Z",
     "shell.execute_reply.started": "2022-02-20T03:30:36.215963Z"
    }
   },
   "outputs": [],
   "source": [
    "def clean_tweet(tweet):\n",
    "    \"\"\"\n",
    "    Tokenize tweets into words. Convert texts to lower case.\n",
    "    Remove hashtags, punctuations, stopwords, website links, extra spaces, non-alphanumeric characters and \n",
    "    single character. Lemmatize texts.\n",
    "    \"\"\"\n",
    "    twt_tokenizer = TweetTokenizer(strip_handles=True) # remove username handles\n",
    "    tokens = [token for token in twt_tokenizer.tokenize(tweet)]\n",
    "    \n",
    "    # Combine stopwords and punctuation\n",
    "    stops = stopwords.words(\"english\") + list(string.punctuation)\n",
    "    \n",
    "    # Create lemmatizer\n",
    "    lemmatizer = WordNetLemmatizer()\n",
    "    \n",
    "    tokens_no_hashtag = [re.sub(r'#', '', token) for token in tokens]\n",
    "    tokens_no_stopwords = [token.lower() for token in tokens_no_hashtag if token.lower() not in stops]\n",
    "    tokens_no_url = [re.sub(r'http\\S+', '', token) for token in tokens_no_stopwords]\n",
    "    tokens_no_url = [re.sub(r'www\\S+', '', token) for token in tokens_no_url]\n",
    "    tokens_no_extra_space = [re.sub(r'\\s\\s+', '', token) for token in tokens_no_url]\n",
    "    tokens_alnum = [token for token in tokens_no_extra_space if token.isalnum()]\n",
    "    tokens_lemma = [lemmatizer.lemmatize(token) for token in tokens_alnum]\n",
    "    tokens_final = [token for token in tokens_lemma if len(token) > 1]\n",
    "    \n",
    "    return tokens_final"
   ]
  },
  {
   "cell_type": "code",
   "execution_count": 7,
   "metadata": {
    "execution": {
     "iopub.execute_input": "2022-02-20T03:30:39.921817Z",
     "iopub.status.busy": "2022-02-20T03:30:39.921131Z",
     "iopub.status.idle": "2022-02-20T03:31:08.54804Z",
     "shell.execute_reply": "2022-02-20T03:31:08.546168Z",
     "shell.execute_reply.started": "2022-02-20T03:30:39.921767Z"
    }
   },
   "outputs": [
    {
     "data": {
      "text/html": [
       "<div>\n",
       "<style scoped>\n",
       "    .dataframe tbody tr th:only-of-type {\n",
       "        vertical-align: middle;\n",
       "    }\n",
       "\n",
       "    .dataframe tbody tr th {\n",
       "        vertical-align: top;\n",
       "    }\n",
       "\n",
       "    .dataframe thead th {\n",
       "        text-align: right;\n",
       "    }\n",
       "</style>\n",
       "<table border=\"1\" class=\"dataframe\">\n",
       "  <thead>\n",
       "    <tr style=\"text-align: right;\">\n",
       "      <th></th>\n",
       "      <th>Tweet</th>\n",
       "      <th>Label</th>\n",
       "    </tr>\n",
       "  </thead>\n",
       "  <tbody>\n",
       "    <tr>\n",
       "      <th>0</th>\n",
       "      <td>[pls, stop, sending, text, every, 15mins, sayi...</td>\n",
       "      <td>negative</td>\n",
       "    </tr>\n",
       "    <tr>\n",
       "      <th>1</th>\n",
       "      <td>[thanks]</td>\n",
       "      <td>neutral</td>\n",
       "    </tr>\n",
       "    <tr>\n",
       "      <th>2</th>\n",
       "      <td>[guy, teach, poor, customer, service, part, am...</td>\n",
       "      <td>negative</td>\n",
       "    </tr>\n",
       "    <tr>\n",
       "      <th>3</th>\n",
       "      <td>[sure, drive, total, hour, get, bag, like, exp...</td>\n",
       "      <td>negative</td>\n",
       "    </tr>\n",
       "    <tr>\n",
       "      <th>4</th>\n",
       "      <td>[guideline, say, 10x9x17, bag, 20x15, 7x8, bit...</td>\n",
       "      <td>neutral</td>\n",
       "    </tr>\n",
       "  </tbody>\n",
       "</table>\n",
       "</div>"
      ],
      "text/plain": [
       "                                               Tweet     Label\n",
       "0  [pls, stop, sending, text, every, 15mins, sayi...  negative\n",
       "1                                           [thanks]   neutral\n",
       "2  [guy, teach, poor, customer, service, part, am...  negative\n",
       "3  [sure, drive, total, hour, get, bag, like, exp...  negative\n",
       "4  [guideline, say, 10x9x17, bag, 20x15, 7x8, bit...   neutral"
      ]
     },
     "execution_count": 7,
     "metadata": {},
     "output_type": "execute_result"
    }
   ],
   "source": [
    "tweets_train['Tweet'] = tweets_train['Tweet'].apply(clean_tweet)\n",
    "tweets_train.head()"
   ]
  },
  {
   "cell_type": "code",
   "execution_count": 8,
   "metadata": {
    "execution": {
     "iopub.execute_input": "2022-02-20T03:31:08.755559Z",
     "iopub.status.busy": "2022-02-20T03:31:08.755126Z",
     "iopub.status.idle": "2022-02-20T03:31:10.528941Z",
     "shell.execute_reply": "2022-02-20T03:31:10.525675Z",
     "shell.execute_reply.started": "2022-02-20T03:31:08.75552Z"
    }
   },
   "outputs": [
    {
     "data": {
      "text/plain": [
       "<11712x10470 sparse matrix of type '<class 'numpy.float64'>'\n",
       "\twith 97619 stored elements in Compressed Sparse Row format>"
      ]
     },
     "execution_count": 8,
     "metadata": {},
     "output_type": "execute_result"
    }
   ],
   "source": [
    "# Combine all the tweets into a single list\n",
    "corpus = tweets_train['Tweet'].apply(lambda x:' '.join(x))\n",
    "\n",
    "# Fit CountVectorizer\n",
    "vectorizer = TfidfVectorizer()\n",
    "X_train_wc = vectorizer.fit_transform(corpus)\n",
    "X_train_wc"
   ]
  },
  {
   "cell_type": "code",
   "execution_count": 9,
   "metadata": {},
   "outputs": [
    {
     "name": "stdout",
     "output_type": "stream",
     "text": [
      "Shape of X_train: (11712, 10470)\n",
      "Shape of y_train: (11712,)\n",
      "Shape of X_test: (2928, 10470)\n",
      "Shape of y_test: (2928,)\n"
     ]
    }
   ],
   "source": [
    "# Convert y_train and y_test to array\n",
    "y_train = np.array(tweets_train['Label'])\n",
    "y_test = np.array(tweets_test['Label'])\n",
    "\n",
    "# Create X_test_wc using sklearn CountVectorizer\n",
    "corpus = tweets_test['Tweet'].apply(clean_tweet).apply(lambda x:' '.join(x))\n",
    "X_test_wc = vectorizer.transform(corpus)\n",
    "\n",
    "# Ensure the shape of X, y in training and test set is correct\n",
    "print(\"Shape of X_train: {}\".format(X_train_wc.shape))\n",
    "print(\"Shape of y_train: {}\".format(y_train.shape))\n",
    "print(\"Shape of X_test: {}\".format(X_test_wc.shape))\n",
    "print(\"Shape of y_test: {}\".format(y_test.shape))"
   ]
  },
  {
   "cell_type": "code",
   "execution_count": 10,
   "metadata": {},
   "outputs": [
    {
     "data": {
      "text/plain": [
       "0.764344262295082"
      ]
     },
     "execution_count": 10,
     "metadata": {},
     "output_type": "execute_result"
    }
   ],
   "source": [
    "from sklearn.ensemble import RandomForestClassifier\n",
    "\n",
    "clf = RandomForestClassifier(random_state=99) # default smoothing parameter alpha=1\n",
    "clf.fit(X_train_wc, y_train)\n",
    "clf.score(X_test_wc, y_test)"
   ]
  },
  {
   "cell_type": "code",
   "execution_count": 11,
   "metadata": {},
   "outputs": [
    {
     "data": {
      "image/png": "[encoded data removed]",
      "text/plain": [
       "<Figure size 432x288 with 2 Axes>"
      ]
     },
     "metadata": {
      "needs_background": "light"
     },
     "output_type": "display_data"
    }
   ],
   "source": [
    "# Generate confusion matrix plot\n",
    "y_pred = clf.predict(X_test_wc)\n",
    "cm = confusion_matrix(y_test, y_pred, labels=clf.classes_)\n",
    "disp = ConfusionMatrixDisplay(confusion_matrix=cm, display_labels=clf.classes_)\n",
    "disp.plot()\n",
    "plt.show()"
   ]
  },
  {
   "cell_type": "code",
   "execution_count": 13,
   "metadata": {},
   "outputs": [
    {
     "name": "stdout",
     "output_type": "stream",
     "text": [
      "              precision    recall  f1-score   support\n",
      "\n",
      "    negative       0.78      0.94      0.85      1836\n",
      "     neutral       0.70      0.41      0.52       620\n",
      "    positive       0.75      0.54      0.62       472\n",
      "\n",
      "    accuracy                           0.76      2928\n",
      "   macro avg       0.74      0.63      0.67      2928\n",
      "weighted avg       0.76      0.76      0.74      2928\n",
      "\n"
     ]
    }
   ],
   "source": [
    "print(classification_report(y_test, y_pred))\n"
   ]
  },
  {
   "cell_type": "code",
   "execution_count": null,
   "metadata": {},
   "outputs": [],
   "source": []
  }
 ],
 "metadata": {
  "kernelspec": {
   "display_name": "Python 3",
   "language": "python",
   "name": "python3"
  },
  "language_info": {
   "codemirror_mode": {
    "name": "ipython",
    "version": 3
   },
   "file_extension": ".py",
   "mimetype": "text/x-python",
   "name": "python",
   "nbconvert_exporter": "python",
   "pygments_lexer": "ipython3",
   "version": "3.8.8"
  }
 },
 "nbformat": 4,
 "nbformat_minor": 4
}
