{
 "cells": [
  {
   "cell_type": "markdown",
   "metadata": {
    "_cell_guid": "4b07b68c-710c-45a8-958f-8b656d28686b",
    "_uuid": "b44cf476e28a12a5870d55b21bab0f1f9f7d26c3"
   },
   "source": [
    "# Convolutional Neural Network for ِArabic Handwritten Characters dataset classification\n",
    "\n",
    "Arabic Handwritten Characters dataset\n",
    "    \n",
    "Arabic Handwritten Characters Recognition Using Convolutional Neural Network\n",
    "Ahmed El-Sawy, Mohamed Loey, Hazem EL-Bakry\n",
    "WSEAS Transactions on Computer Research, ISSN / E-ISSN: 1991-8755 / 2415-1521, Volume 5, 2017, Art. 2, pp. 11-19\n",
    "\n"
   ]
  },
  {
   "cell_type": "code",
   "execution_count": 4,
   "metadata": {},
   "outputs": [
    {
     "name": "stdout",
     "output_type": "stream",
     "text": [
      "Collecting tflearn\n",
      "  Downloading tflearn-0.5.0.tar.gz (107 kB)\n",
      "Requirement already satisfied: numpy in c:\\users\\mans\\anaconda3_v2\\lib\\site-packages (from tflearn) (1.21.1)\n",
      "Requirement already satisfied: six in c:\\users\\mans\\anaconda3_v2\\lib\\site-packages (from tflearn) (1.16.0)\n",
      "Requirement already satisfied: Pillow in c:\\users\\mans\\anaconda3_v2\\lib\\site-packages (from tflearn) (8.2.0)\n",
      "Building wheels for collected packages: tflearn\n",
      "  Building wheel for tflearn (setup.py): started\n",
      "  Building wheel for tflearn (setup.py): finished with status 'done'\n",
      "  Created wheel for tflearn: filename=tflearn-0.5.0-py3-none-any.whl size=127300 sha256=1f351d375f61a1a1eeda3fb02b1428432d77d3a1d9e0f7a7aa5ef488d38b7827\n",
      "  Stored in directory: c:\\users\\mans\\appdata\\local\\pip\\cache\\wheels\\65\\9b\\15\\cb1e6b279c14ed897530d15cfd7da8e3df8a947e593f5cfe59\n",
      "Successfully built tflearn\n",
      "Installing collected packages: tflearn\n",
      "Successfully installed tflearn-0.5.0\n",
      "Note: you may need to restart the kernel to use updated packages.\n"
     ]
    }
   ],
   "source": [
    "pip install tflearn\n"
   ]
  },
  {
   "cell_type": "code",
   "execution_count": 5,
   "metadata": {
    "_cell_guid": "96caf66a-d5bf-48cc-985a-7e08b7cb6ab9",
    "_uuid": "52391aa034e781df1b88cc3fb84c9fae193a8698",
    "jupyter": {
     "outputs_hidden": false
    }
   },
   "outputs": [
    {
     "name": "stdout",
     "output_type": "stream",
     "text": [
      "WARNING:tensorflow:From C:\\Users\\Mans\\anaconda3_v2\\lib\\site-packages\\tensorflow\\python\\compat\\v2_compat.py:111: disable_resource_variables (from tensorflow.python.ops.variable_scope) is deprecated and will be removed in a future version.\n",
      "Instructions for updating:\n",
      "non-resource variables are not supported in the long term\n",
      "curses is not supported on this machine (please install/reinstall curses for an optimal experience)\n"
     ]
    }
   ],
   "source": [
    "from __future__ import division, print_function, absolute_import\n",
    "\n",
    "import numpy as np # linear algebra\n",
    "import pandas as pd # data processing, CSV file I/O (e.g. pd.read_csv)\n",
    "import tensorflow as tf\n",
    "import tflearn\n",
    "from tflearn.data_utils import to_categorical\n",
    "import tflearn.data_utils as du\n",
    "from tflearn.layers.core import input_data, dropout, fully_connected\n",
    "from tflearn.layers.conv import conv_2d, max_pool_2d\n",
    "from tflearn.layers.normalization import local_response_normalization\n",
    "from tflearn.layers.estimator import regression"
   ]
  },
  {
   "cell_type": "code",
   "execution_count": null,
   "metadata": {
    "_cell_guid": "07da68e3-1731-439f-9e46-33784bfeec97",
    "_uuid": "c922321b8cc922a567682749bd9e91568f3a4411",
    "jupyter": {
     "outputs_hidden": true
    }
   },
   "outputs": [],
   "source": [
    "# read training & testing data\n",
    "\n",
    "trainx = pd.read_csv(\"arabic letters/csvTrainImages 13440x1024.csv\",header=None)\n",
    "trainy = pd.read_csv(\"arabic letters/csvTrainLabel 13440x1.csv\",header=None)\n",
    "\n",
    "testx = pd.read_csv(\"arabic letters/csvTestImages 3360x1024.csv\",header=None)\n",
    "testy = pd.read_csv(\"arabic letters/csvTestLabel 3360x1.csv\",header=None)"
   ]
  },
  {
   "cell_type": "code",
   "execution_count": null,
   "metadata": {
    "_cell_guid": "1d7c9e1b-ea33-4b9d-bf55-e2962dbeabfb",
    "_uuid": "1f1f6fdb5e1652d915966b45e660ebecd35555e0",
    "jupyter": {
     "outputs_hidden": false
    }
   },
   "outputs": [],
   "source": [
    "trainx.head()"
   ]
  },
  {
   "cell_type": "code",
   "execution_count": 5,
   "metadata": {
    "_cell_guid": "f37cf0c9-02c8-429e-8602-516c6f8f52aa",
    "_uuid": "e63b7db93a348bddd0d0b3d30b533861352f7fda",
    "collapsed": true,
    "jupyter": {
     "outputs_hidden": true
    }
   },
   "outputs": [],
   "source": [
    "# Split data into training set and validation set\n",
    "#training images\n",
    "trainx = trainx.values.astype('float32')\n",
    "#training labels\n",
    "trainy = trainy.values.astype('int32')-1\n",
    "\n",
    "#testing images\n",
    "testx = testx.values.astype('float32')\n",
    "#testing labels\n",
    "testy = testy.values.astype('int32')-1"
   ]
  },
  {
   "cell_type": "code",
   "execution_count": 6,
   "metadata": {
    "_cell_guid": "2b318c4d-3720-496e-a8fe-fb731c943343",
    "_uuid": "4c7b9295524a82c806328f0d1b38a7ddcecda0a5",
    "jupyter": {
     "outputs_hidden": false
    }
   },
   "outputs": [],
   "source": [
    "trainx[0]"
   ]
  },
  {
   "cell_type": "code",
   "execution_count": 7,
   "metadata": {
    "_cell_guid": "64e606aa-c9b9-4525-b692-fde6225c8c2a",
    "_uuid": "e6d01b1e0868357705989e4d9e1b6bd7c5595772",
    "jupyter": {
     "outputs_hidden": false
    }
   },
   "outputs": [],
   "source": [
    "#One Hot encoding of train labels.\n",
    "trainy = to_categorical(trainy,28)\n",
    "\n",
    "#One Hot encoding of test labels.\n",
    "testy = to_categorical(testy,28)"
   ]
  },
  {
   "cell_type": "code",
   "execution_count": 8,
   "metadata": {
    "_cell_guid": "9a8850ae-3283-43ab-a236-fb8e0a5618b7",
    "_uuid": "98a0ce73ac46a77cdeddbb9aeffa7de2ad2f9b85",
    "jupyter": {
     "outputs_hidden": false
    }
   },
   "outputs": [],
   "source": [
    "trainy[27]"
   ]
  },
  {
   "cell_type": "code",
   "execution_count": 9,
   "metadata": {
    "_cell_guid": "3384d01f-0d3b-43e9-be1f-58968bc840cf",
    "_uuid": "544cc28a49339354330604824cc7b0c166cd2030",
    "jupyter": {
     "outputs_hidden": false
    }
   },
   "outputs": [],
   "source": [
    "print(trainx.shape, trainy.shape, testx.shape, testy.shape)"
   ]
  },
  {
   "cell_type": "code",
   "execution_count": 10,
   "metadata": {
    "_cell_guid": "4ee37572-e235-402d-b48f-0f2e7c538e84",
    "_uuid": "db2ead837a9a131c27a671d2b2a6c4ce78ee051c",
    "collapsed": true,
    "jupyter": {
     "outputs_hidden": true
    }
   },
   "outputs": [],
   "source": [
    "# reshape input images to 28x28x1\n",
    "trainx = trainx.reshape([-1, 32, 32, 1])\n",
    "testx = testx.reshape([-1, 32, 32, 1])"
   ]
  },
  {
   "cell_type": "code",
   "execution_count": 11,
   "metadata": {
    "_cell_guid": "a7249e39-3873-42c6-83d1-133aebfa4952",
    "_uuid": "77d70b9525fad615d9fc1b01225d44ff477e5c14",
    "jupyter": {
     "outputs_hidden": false
    }
   },
   "outputs": [],
   "source": [
    "print(trainx.shape, trainy.shape, testx.shape, testy.shape)"
   ]
  },
  {
   "cell_type": "code",
   "execution_count": 12,
   "metadata": {
    "_cell_guid": "6eeb3898-6e98-4ecb-b95d-91e26a179c0b",
    "_uuid": "b55b21e49bcc0229ea9f81c51ace0345658d635c",
    "collapsed": true,
    "jupyter": {
     "outputs_hidden": true
    }
   },
   "outputs": [],
   "source": [
    "#Zero center every sample with specified mean. If not specified, the mean is evaluated over all samples.\n",
    "trainx, mean1 = du.featurewise_zero_center(trainx)\n",
    "testx, mean2 = du.featurewise_zero_center(testx)"
   ]
  },
  {
   "cell_type": "code",
   "execution_count": 13,
   "metadata": {
    "_cell_guid": "67e4fce6-aa41-47ce-b74a-3db3917fee97",
    "_uuid": "277def63b88bb8552e974b1c29d4aec496e77171",
    "jupyter": {
     "outputs_hidden": false
    }
   },
   "outputs": [],
   "source": [
    "print(trainx.shape, trainy.shape, testx.shape, testy.shape)"
   ]
  },
  {
   "cell_type": "code",
   "execution_count": 14,
   "metadata": {
    "_cell_guid": "69e3aac4-ffa0-4081-b615-2fc4064fee7f",
    "_uuid": "77ea46dd2fc12321b350876e739609735859e3f9",
    "jupyter": {
     "outputs_hidden": false
    }
   },
   "outputs": [],
   "source": [
    "trainx[0]"
   ]
  },
  {
   "cell_type": "code",
   "execution_count": 15,
   "metadata": {
    "_cell_guid": "2407dc2d-2b47-46da-8507-cbf9ce4ce24a",
    "_uuid": "9b746e2843fe1959988cd511e3094b404806599e",
    "collapsed": true,
    "jupyter": {
     "outputs_hidden": true
    }
   },
   "outputs": [],
   "source": [
    "# Building convolutional network\n",
    "network = input_data(shape=[None, 32, 32, 1], name='input')\n",
    "network = conv_2d(network, 80, 3, activation='relu', regularizer=\"L2\")\n",
    "network = max_pool_2d(network, 2)\n",
    "network = local_response_normalization(network)\n",
    "network = conv_2d(network, 64, 3, activation='relu', regularizer=\"L2\")\n",
    "network = max_pool_2d(network, 2)\n",
    "network = local_response_normalization(network)\n",
    "network = fully_connected(network, 1024, activation='relu')\n",
    "network = dropout(network, 0.8)\n",
    "network = fully_connected(network, 512, activation='relu')\n",
    "network = dropout(network, 0.8)\n",
    "network = fully_connected(network, 28, activation='softmax')\n",
    "network = regression(network, optimizer='sgd', learning_rate=0.01,\n",
    "                     loss='categorical_crossentropy', name='target')"
   ]
  },
  {
   "cell_type": "code",
   "execution_count": 16,
   "metadata": {
    "_cell_guid": "ce0848a7-1f13-428c-b023-e6b82c94ffff",
    "_uuid": "9948f79f0e408e04e6e1ac40c39ee34b9dc0c211",
    "collapsed": true,
    "jupyter": {
     "outputs_hidden": true
    }
   },
   "outputs": [],
   "source": [
    "#model complile\n",
    "model = tflearn.DNN(network, tensorboard_verbose=0)"
   ]
  },
  {
   "cell_type": "code",
   "execution_count": 17,
   "metadata": {
    "_cell_guid": "7eec58f0-d922-4be5-8354-6515915f32d8",
    "_uuid": "80e244d02aa3c8c89f8e386e422f42a7fbd8dff6",
    "jupyter": {
     "outputs_hidden": false
    }
   },
   "outputs": [],
   "source": [
    "#model fitting\n",
    "model.fit({'input': trainx}, {'target': trainy}, n_epoch=30,\n",
    "           validation_set=({'input': testx}, {'target': testy}),\n",
    "           snapshot_step=100, show_metric=True, run_id='convnet_arabic_digits')"
   ]
  },
  {
   "cell_type": "code",
   "execution_count": 18,
   "metadata": {
    "_cell_guid": "977af206-8ada-4fe7-99f5-725dff828a3c",
    "_uuid": "158653453bf633a5f15040ee8186e46744cc9a5b",
    "jupyter": {
     "outputs_hidden": false
    }
   },
   "outputs": [],
   "source": [
    "# Evaluate model\n",
    "score = model.evaluate(testx, testy)\n",
    "print('Test accuarcy: %0.2f%%' % (score[0] * 100))"
   ]
  },
  {
   "cell_type": "code",
   "execution_count": null,
   "metadata": {
    "_cell_guid": "a9c2aa24-573b-48cf-a4fb-913fac57a809",
    "_uuid": "f5befcf7378edc17b285508c67e97cae9431120e",
    "collapsed": true,
    "jupyter": {
     "outputs_hidden": true
    }
   },
   "outputs": [],
   "source": []
  }
 ],
 "metadata": {
  "anaconda-cloud": {},
  "kernelspec": {
   "display_name": "Python 3",
   "language": "python",
   "name": "python3"
  },
  "language_info": {
   "codemirror_mode": {
    "name": "ipython",
    "version": 3
   },
   "file_extension": ".py",
   "mimetype": "text/x-python",
   "name": "python",
   "nbconvert_exporter": "python",
   "pygments_lexer": "ipython3",
   "version": "3.8.8"
  }
 },
 "nbformat": 4,
 "nbformat_minor": 4
}
